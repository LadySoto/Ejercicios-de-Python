{
 "cells": [
  {
   "cell_type": "markdown",
   "metadata": {},
   "source": [
    "Ejercicio 1: \n",
    "Cree una variable numérica y muéstrela en pantalla."
   ]
  },
  {
   "cell_type": "code",
   "execution_count": 1,
   "metadata": {},
   "outputs": [
    {
     "name": "stdout",
     "output_type": "stream",
     "text": [
      "12\n"
     ]
    }
   ],
   "source": [
    "x=12\n",
    "\n",
    "print(x)"
   ]
  },
  {
   "cell_type": "markdown",
   "metadata": {},
   "source": [
    "Ejercicio 2: \n",
    "Pida el ingreso de 2 variables “x=10” y “y=5”. Realice un programa que muestre en \n",
    "pantalla la suma, la resta, la multiplicación y la división de ambas variables."
   ]
  },
  {
   "cell_type": "code",
   "execution_count": 5,
   "metadata": {},
   "outputs": [
    {
     "name": "stdout",
     "output_type": "stream",
     "text": [
      "Estos son los números ingresados:  8 y 2\n",
      "Esta es la suma de sus dos números:  10\n",
      "Esta es la resta de sus dos números:  6\n",
      "Esta es la multiplicación de sus dos números:  16\n",
      "Esta es la división de sus dos números:  4.0\n"
     ]
    }
   ],
   "source": [
    "x=int(input(\"Ingresa un número\"))\n",
    "y=int(input(\"Ingresa un número\"))\n",
    "\n",
    "print(\"Estos son los números ingresados: \",x,\"y\",y)\n",
    "\n",
    "#Suma\n",
    "suma=x+y\n",
    "print(\"Esta es la suma de sus dos números: \",suma)\n",
    "\n",
    "#Resta\n",
    "resta=x-y\n",
    "print(\"Esta es la resta de sus dos números: \", resta)\n",
    "\n",
    "#Multiplicación\n",
    "multi=x*y\n",
    "print(\"Esta es la multiplicación de sus dos números: \",multi)\n",
    "\n",
    "#División\n",
    "div=x/y\n",
    "print(\"Esta es la división de sus dos números: \",div)\n"
   ]
  },
  {
   "cell_type": "markdown",
   "metadata": {},
   "source": [
    "Ejercicio 3: \n",
    "Pida al usuario el precio de un producto sin IVA. Realice un programa que calcule el \n",
    "valor del producto con IVA y muestre en pantalla el nuevo valor y el monto del impuesto. "
   ]
  },
  {
   "cell_type": "code",
   "execution_count": 9,
   "metadata": {},
   "outputs": [
    {
     "name": "stdout",
     "output_type": "stream",
     "text": [
      "el valor ingresado es: $ 20.0\n",
      "El valor del precio con IVA es de: $ 23.8\n",
      "El valor del precio con IVA es de: $ 24\n",
      "El impuesto de IVA fue de: $ 3.8\n"
     ]
    }
   ],
   "source": [
    "precio=float(input(\"Ingresa el valor del producto\"))\n",
    "\n",
    "print(\"el valor ingresado es: $\",precio)\n",
    "\n",
    "iva=precio*0.19\n",
    "precioConIva=precio + iva\n",
    "#precioConIvaRedondeado=round(precioConIva)\n",
    "\n",
    "print(\"El valor del precio con IVA es de: $\",precioConIva)\n",
    "#print(\"El valor del precio con IVA es de: $\",precioConIvaRedondeado)\n",
    "print(\"El impuesto de IVA fue de: $\",iva)\n"
   ]
  },
  {
   "cell_type": "markdown",
   "metadata": {},
   "source": [
    "Ejercicio 4: \n",
    "Se le pide realizar un programa que permita a los usuarios simular un ahorro de un \n",
    "porcentaje de su salario en un plazo de meses especifico. Pida al usuario su salario, \n",
    "el porcentaje que quiere ahorrar y el tiempo en meses en el que realizará el ahorro. \n",
    "Muestre en pantalla el total ahorrado."
   ]
  },
  {
   "cell_type": "code",
   "execution_count": 17,
   "metadata": {},
   "outputs": [
    {
     "name": "stdout",
     "output_type": "stream",
     "text": [
      "Su salario es de: $ 1000.0 y el porcentaje que desea ahorrar es del % 10.0 por 5.0 meses\n",
      "Ahorro descontado = $ 100.0\n",
      "Su ahorro total para dentro de 5.0 meses, será de: $ 500.0\n"
     ]
    }
   ],
   "source": [
    "salario=float(input(\"Ingresa el valor de su salario\"))\n",
    "porcentajeAhorro=float(input(\"Ingresa el porcentaje deseado a ahorrar\"))\n",
    "tiempoAhorro=float(input(\"Por cuantos meses deseas ahorrar\"))\n",
    "\n",
    "print(\"Su salario es de: $\",salario,\"y el porcentaje que desea ahorrar es del %\", porcentajeAhorro,\"por\",tiempoAhorro,\"meses\")\n",
    "\n",
    "porcentajeConvertido=porcentajeAhorro/100\n",
    "ahorroDescontado=(salario*porcentajeAhorro)/100\n",
    "ahorroTotal=ahorroDescontado*tiempoAhorro\n",
    "print(\"Ahorro descontado = $\", ahorroDescontado)\n",
    "\n",
    "print(\"Su ahorro total para dentro de\", tiempoAhorro,\"meses, será de: $\",ahorroTotal)\n"
   ]
  },
  {
   "cell_type": "markdown",
   "metadata": {},
   "source": [
    "Ejercicio 5: \n",
    "En un centro de salud se atiende a los pacientes por turnos, en total hay cinco puestos \n",
    "de atención enumerados del 0 al 4. El puesto de atención se le asigna a cada paciente \n",
    "calculando el residuo de la división de su número de turno entre 5. Realice un programa \n",
    "que permita ingresar el nombre del paciente y su número de turno. Muestre en pantalla \n",
    "el nombre del paciente y el puesto que se le asignó. "
   ]
  },
  {
   "cell_type": "code",
   "execution_count": 22,
   "metadata": {},
   "outputs": [
    {
     "name": "stdout",
     "output_type": "stream",
     "text": [
      "lady soto su puesto de atención es: 2\n"
     ]
    }
   ],
   "source": [
    "nombre=input(\"Ingresa tu nombre\")\n",
    "turno=int(input(\"Ingresa tu turno\"))\n",
    "\n",
    "puestoDeAtencion=turno%5\n",
    "if puestoDeAtencion == 0:\n",
    "    print(nombre,\"su puesto de atención es:\",puestoDeAtencion)\n",
    "elif puestoDeAtencion == 1:\n",
    "    print(nombre,\"su puesto de atención es:\",puestoDeAtencion)\n",
    "elif puestoDeAtencion == 2:\n",
    "    print(nombre,\"su puesto de atención es:\",puestoDeAtencion)\n",
    "elif puestoDeAtencion == 3:\n",
    "    print(nombre,\"su puesto de atención es:\",puestoDeAtencion)\n",
    "elif puestoDeAtencion == 4:\n",
    "    print(nombre,\"su puesto de atención es:\",puestoDeAtencion)\n",
    "else:\n",
    "    print(\"Error al ingresar su turno\")    "
   ]
  },
  {
   "cell_type": "markdown",
   "metadata": {},
   "source": [
    "Ejercicio 6: \n",
    "Realice un programa que pida al usuario un número de 3 cifras, muestra en pantalla \n",
    "sus dígitos y la suma de estos. \n",
    "\n",
    "Ejemplo: \n",
    "Ingrese número de 3 cifras: 237 \n",
    "Dígitos: 2, 3, 7 \n",
    "Suma de sus dígitos: 12  \n",
    "\n",
    "Pista: Para este ejercicio el operador modulo (%) y el operador división entera (//) \n",
    "permiten descomponer un número en sus dígitos, por ejemplo para un número de 3 \n",
    "cifras, su primer digito se puede obtener como Número//100"
   ]
  },
  {
   "cell_type": "code",
   "execution_count": 25,
   "metadata": {},
   "outputs": [
    {
     "name": "stdout",
     "output_type": "stream",
     "text": [
      "El número ingresado es: 123\n",
      "Dígitos: 1 2 3\n",
      "Suma de sus dígitos: 6\n"
     ]
    }
   ],
   "source": [
    "numero=int(input(\"Ingresa un número de tres cifras\"))\n",
    "\n",
    "print(\"El número ingresado es:\",numero)\n",
    "\n",
    "primerDigito=numero//100\n",
    "segundoDigito=(numero%100)//10\n",
    "tercerDigito=numero%10\n",
    "\n",
    "sumaDigitos=primerDigito + segundoDigito + tercerDigito\n",
    "\n",
    "print(\"Dígitos:\",primerDigito,segundoDigito,tercerDigito)\n",
    "print(\"Suma de sus dígitos:\", sumaDigitos)"
   ]
  }
 ],
 "metadata": {
  "kernelspec": {
   "display_name": "Python 3",
   "language": "python",
   "name": "python3"
  },
  "language_info": {
   "codemirror_mode": {
    "name": "ipython",
    "version": 3
   },
   "file_extension": ".py",
   "mimetype": "text/x-python",
   "name": "python",
   "nbconvert_exporter": "python",
   "pygments_lexer": "ipython3",
   "version": "3.12.0"
  }
 },
 "nbformat": 4,
 "nbformat_minor": 2
}
