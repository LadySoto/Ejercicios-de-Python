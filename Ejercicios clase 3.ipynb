{
 "cells": [
  {
   "cell_type": "markdown",
   "metadata": {},
   "source": [
    "Ejercicio 1: \n",
    "\n",
    "Realice un programa que pida un número entero y muestre una alerta si el número es \n",
    "mayor a 10 "
   ]
  },
  {
   "cell_type": "code",
   "execution_count": 13,
   "metadata": {},
   "outputs": [
    {
     "name": "stdout",
     "output_type": "stream",
     "text": [
      "El número ingresado es: 11 y es mayor a 10\n"
     ]
    }
   ],
   "source": [
    "numero=int(int(input(\"Ingresa un número entero\")))\n",
    "\n",
    "if numero>10:\n",
    "    print(\"El número ingresado es:\",numero,\"y es mayor a 10\")\n",
    "else:\n",
    "    print(\"El número ingresado es:\",numero,\"y es menor o igual a 10\")\n",
    "    "
   ]
  },
  {
   "cell_type": "markdown",
   "metadata": {},
   "source": [
    "Ejercicio 2: \n",
    "\n",
    "Una empresa de mudanzas tiene 3 tarifas que varían dependiendo el número de \n",
    "muebles que se tengan que desplazar. Las tarifas son: \n",
    "- $130.000 por menos de 10 muebles. \n",
    "- $230.000 si hay entre 10 y 20 muebles. \n",
    "- $310.000 si hay entre 21 y 30 muebles. \n",
    "\n",
    "La empresa no acepta trabajos por menos de 4 muebles o más de 30 muebles. \n",
    "\n",
    "Realice un programa que simule la operación de la empresa."
   ]
  },
  {
   "cell_type": "code",
   "execution_count": 21,
   "metadata": {},
   "outputs": [
    {
     "name": "stdout",
     "output_type": "stream",
     "text": [
      "El precio por transportar 30 es de $3100.000\n"
     ]
    }
   ],
   "source": [
    "cantMuebles=int(input(\"¿Cuántos muebles necesitas transportar?\"))\n",
    "\n",
    "if cantMuebles < 4 or cantMuebles > 30:\n",
    "    print(\"No tenemos servicio para esta cantidad de muebles:\", cantMuebles)\n",
    "elif cantMuebles < 10:\n",
    "    print(\"El precio por transportar\", cantMuebles,\"es de $130.000\")\n",
    "elif cantMuebles >= 10 and cantMuebles <=20:\n",
    "    print(\"El precio por transportar\", cantMuebles,\"es de $230.000\")\n",
    "elif cantMuebles >=21 and cantMuebles <=30:\n",
    "    print(\"El precio por transportar\", cantMuebles,\"es de $3100.000\")"
   ]
  },
  {
   "cell_type": "markdown",
   "metadata": {},
   "source": [
    "Ejercicio 3: \n",
    "\n",
    "Pida el ingreso de 2 variables numéricas. Realice un programa que permita al usuario \n",
    "escoger entre la suma, la resta, la multiplicación o la división de ambas variables. Se \n",
    "debe mostrar en pantalla la operación seleccionada y el resultado."
   ]
  },
  {
   "cell_type": "code",
   "execution_count": 29,
   "metadata": {},
   "outputs": [
    {
     "name": "stdout",
     "output_type": "stream",
     "text": [
      "La operación elegida fue la multiplicación, y tu resultado es: -45\n"
     ]
    }
   ],
   "source": [
    "x=int(input(\"Ingresa un primer número\"))\n",
    "y=int(input(\"Ingresa un segundo número\"))\n",
    "operacion=input(\"¿Qué operación necesitas?\\n 1. Suma\\n 2. Resta\\n 3. Multiplicación\\n 4. División\")\n",
    "\n",
    "if operacion.lower() == \"suma\":\n",
    "    print(\"La operación elegida fue la suma, y tu resultado es:\",x+y)\n",
    "elif operacion.lower() == \"resta\":\n",
    "    print(\"La operación elegida fue la resta, y tu resultado es:\",x-y)\n",
    "elif operacion.lower() == \"multiplicacion\":\n",
    "    print(\"La operación elegida fue la multiplicación, y tu resultado es:\",x*y)\n",
    "elif operacion.lower() == \"division\":\n",
    "    print(\"La operación elegida fue la división, y tu resultado es:\",x/y)\n",
    "else:\n",
    "    print(\"Operación no válida\")"
   ]
  },
  {
   "cell_type": "markdown",
   "metadata": {},
   "source": [
    "Ejercicio 4: \n",
    "\n",
    "Realice un programa que detecte si un número ingresado es par o impar. \n",
    "\n",
    "Pista: Los números pares son enteros que cumplen la condición: n%2=0. "
   ]
  },
  {
   "cell_type": "code",
   "execution_count": 33,
   "metadata": {},
   "outputs": [
    {
     "name": "stdout",
     "output_type": "stream",
     "text": [
      "El número ingresado es par\n"
     ]
    }
   ],
   "source": [
    "numero=float(input(\"Ingresa un número\"))\n",
    "\n",
    "if numero%2 == 0:\n",
    "    print(\"El número ingresado es par\")\n",
    "else:\n",
    "    print(\"El número ingresado es impar\")"
   ]
  },
  {
   "cell_type": "markdown",
   "metadata": {},
   "source": [
    "Ejercicio 5: \n",
    "\n",
    "Realice un programa en donde el usuario ingrese un año, el programa debe mostrar si \n",
    "el valor ingresado corresponde a un año bisiesto o no \n",
    "\n",
    "Pistas:  \n",
    "- Un año es bisiesto si es divisible entre 4 y no entre 100. \n",
    "- Los años divisibles entre 400 SIEMPRE son bisiestos.  En este caso se ignora la \n",
    "anterior condición  \n",
    "\n",
    "Por ejemplo, los años 1200, 1600, 2000, 1996 o 2004 son bisiestos, los años 1900, \n",
    "1700, 2100 no son bisiestos."
   ]
  },
  {
   "cell_type": "code",
   "execution_count": 46,
   "metadata": {},
   "outputs": [
    {
     "name": "stdout",
     "output_type": "stream",
     "text": [
      "Es un año bisiesto\n"
     ]
    }
   ],
   "source": [
    "fecha=int(input(\"Ingresa un año\"))\n",
    "\n",
    "if fecha%400 == 0 :\n",
    "    print(\"Es un año bisiesto\")\n",
    "elif fecha%4 == 0 and fecha%100 != 0:\n",
    "    print(\"Es un año bisiesto\")\n",
    "else:\n",
    "    print(\"No es un año bisiesto\")"
   ]
  },
  {
   "cell_type": "markdown",
   "metadata": {},
   "source": [
    "Ejercicio 6: \n",
    "\n",
    "En una tienda online en la cual se tienen como productos:\n",
    "* monitores a 600.000$\n",
    "* audífonos a 150.000$ \n",
    "* tabletas a 700.000$ \n",
    "* computadores portátiles a 1.300.000$ \n",
    "El costo de envío en la tienda es de 15.000$, pero por compras mayores a 650.000 se elimina este valor. \n",
    "\n",
    "Realice un programa que permita al usuario ingresar un presupuesto y seleccionar el producto que va a comprar. \n",
    "\n",
    "El programa debe mostrar el dinero sobrante y el producto comprado. \n",
    "“Presupuesto sobrante=340000$, Producto: tableta”  "
   ]
  },
  {
   "cell_type": "code",
   "execution_count": 70,
   "metadata": {},
   "outputs": [
    {
     "name": "stdout",
     "output_type": "stream",
     "text": [
      "El producto no esta en el catalogo\n",
      "El presupuesto sobrante es:  1285000.0 y su producto es: mmm\n"
     ]
    }
   ],
   "source": [
    "presupuesto=float(input(\"Ingresa tu presupuesto\"))\n",
    "\n",
    "if presupuesto >= 150000:\n",
    "    \n",
    "    producto=input(\"Selecciona tu producto: \\n 1. Monitor\\n 2. Audifonos\\n 3. Tablet\\n 4. Computador portatil\")\n",
    "    costo=0\n",
    "    \n",
    "    if producto.lower() == \"monitor\":\n",
    "        costo=600000\n",
    "    elif producto.lower() == \"audifonos\":\n",
    "        costo=150000\n",
    "    elif producto.lower() == \"tablet\":\n",
    "        costo=700000\n",
    "    elif producto.lower() == \"computador portatil\":\n",
    "        costo=1300000\n",
    "    else:\n",
    "        print(\"El producto no esta en el catalogo\")\n",
    "    \n",
    "    if costo<=650000:\n",
    "        total = costo + 15000\n",
    "        sobrante = presupuesto - total\n",
    "        \n",
    "        if sobrante < 0:\n",
    "            print(\"El presupuesto es insuficiente\")\n",
    "        else:\n",
    "            print(\"El presupuesto sobrante es: \",sobrante,\"y su producto es:\",producto)\n",
    "            \n",
    "    elif costo > 650000:\n",
    "        sobrante = presupuesto - costo\n",
    "        \n",
    "        if sobrante < 0:\n",
    "            print(\"El presupuesto es insuficiente\")\n",
    "        else:\n",
    "            print(\"El presupuesto sobrante es: \",sobrante,\"y su producto es:\",producto)\n",
    "        \n",
    "else:\n",
    "    print(\"El presupuesto debe ser superior a $150.000\")\n",
    "    \n",
    "    "
   ]
  }
 ],
 "metadata": {
  "kernelspec": {
   "display_name": "Python 3",
   "language": "python",
   "name": "python3"
  },
  "language_info": {
   "codemirror_mode": {
    "name": "ipython",
    "version": 3
   },
   "file_extension": ".py",
   "mimetype": "text/x-python",
   "name": "python",
   "nbconvert_exporter": "python",
   "pygments_lexer": "ipython3",
   "version": "3.12.0"
  }
 },
 "nbformat": 4,
 "nbformat_minor": 2
}
