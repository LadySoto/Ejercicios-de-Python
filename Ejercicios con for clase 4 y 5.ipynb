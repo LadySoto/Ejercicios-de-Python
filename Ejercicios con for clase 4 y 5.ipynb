{
 "cells": [
  {
   "cell_type": "markdown",
   "metadata": {},
   "source": [
    "Ejercicio 1: \n",
    "\n",
    "Cree un programa que pida al usuario un número entero positivo e imprima en pantalla todos los números desde 1 hasta el valor ingresado. "
   ]
  },
  {
   "cell_type": "code",
   "execution_count": 4,
   "metadata": {},
   "outputs": [
    {
     "name": "stdout",
     "output_type": "stream",
     "text": [
      "1\n",
      "2\n"
     ]
    }
   ],
   "source": [
    "x=int(input(\"Ingresa un número\"))\n",
    "\n",
    "for i in range(x):\n",
    "    print(i+1)"
   ]
  },
  {
   "cell_type": "markdown",
   "metadata": {},
   "source": [
    "Ejercicio 2: \n",
    "\n",
    "Cree un programa que pida al usuario una cantidad de números entera positiva, después pida al usuario esa cantidad de números. Muestre en pantalla solo los números pares ingresados. \n"
   ]
  },
  {
   "cell_type": "code",
   "execution_count": 34,
   "metadata": {},
   "outputs": [
    {
     "name": "stdout",
     "output_type": "stream",
     "text": [
      "[2]\n",
      "No ingresaste números pares\n",
      "[2, 4]\n"
     ]
    }
   ],
   "source": [
    "z=int(input(\"Determina tu cantidad\"))\n",
    "numeros=[]\n",
    "numPares=[]\n",
    "\n",
    "if z>0:\n",
    "    for i in range(z):\n",
    "        num=int(input(\"Ingresa la cantidad de números\"))\n",
    "        numeros.append(num)\n",
    "        #print(numeros) \n",
    "        if num%2 == 0:\n",
    "            numPares.append(num)\n",
    "            print(numPares)\n",
    "        else:\n",
    "            print(\"No ingresaste números pares\")\n",
    "        \n",
    "else:\n",
    "    print(\"Ingresa un número válido\")"
   ]
  },
  {
   "cell_type": "code",
   "execution_count": null,
   "metadata": {},
   "outputs": [],
   "source": []
  }
 ],
 "metadata": {
  "kernelspec": {
   "display_name": "Python 3",
   "language": "python",
   "name": "python3"
  },
  "language_info": {
   "codemirror_mode": {
    "name": "ipython",
    "version": 3
   },
   "file_extension": ".py",
   "mimetype": "text/x-python",
   "name": "python",
   "nbconvert_exporter": "python",
   "pygments_lexer": "ipython3",
   "version": "3.12.0"
  }
 },
 "nbformat": 4,
 "nbformat_minor": 2
}
